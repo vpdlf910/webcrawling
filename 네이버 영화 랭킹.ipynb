{
 "cells": [
  {
   "cell_type": "code",
   "execution_count": 1,
   "id": "0b441a1e-5507-4255-b3b7-e6c92fc750d6",
   "metadata": {},
   "outputs": [],
   "source": [
    "import requests\n",
    "from bs4 import BeautifulSoup"
   ]
  },
  {
   "cell_type": "code",
   "execution_count": 2,
   "id": "4dca4546-d1c2-4e2c-9b6d-69ab71de52e7",
   "metadata": {},
   "outputs": [],
   "source": [
    "url='https://movie.naver.com/movie/sdb/rank/rmovie.naver' \n",
    "movie_ranking = requests.get(url)"
   ]
  },
  {
   "cell_type": "code",
   "execution_count": 3,
   "id": "ab807543-137b-4705-93e5-9987316daac0",
   "metadata": {},
   "outputs": [
    {
     "name": "stdout",
     "output_type": "stream",
     "text": [
      "1위 : 토르: 러브 앤 썬더\n",
      "2위 : 탑건: 매버릭\n",
      "3위 : 헤어질 결심\n",
      "4위 : 마녀(魔女) Part2. The Other One\n",
      "5위 : 외계+인 1부\n",
      "6위 : 범죄도시2\n",
      "7위 : 더 킬러: 죽어도 되는 아이\n",
      "8위 : 한산: 용의 출현\n",
      "9위 : 엘비스\n",
      "10위 : 그레이 맨\n",
      "11위 : 명탐정 코난: 할로윈의 신부\n",
      "12위 : 비상선언\n",
      "13위 : 큐어\n",
      "14위 : 브로커\n",
      "15위 : 뒤틀린 집\n",
      "16위 : 미니언즈2\n",
      "17위 : 멘\n",
      "18위 : 핸썸\n",
      "19위 : 버즈 라이트이어\n",
      "20위 : 쥬라기 월드: 도미니언\n",
      "21위 : 메모리\n",
      "22위 : 닥터 스트레인지: 대혼돈의 멀티버스\n",
      "23위 : 로스트 도터\n",
      "24위 : 헌트\n",
      "25위 : 감동주의보\n",
      "26위 : 마녀\n",
      "27위 : 룸 쉐어링\n",
      "28위 : 탑건\n",
      "29위 : 빅샤크4 : 바다공룡 대모험\n",
      "30위 : 썸머 필름을 타고!\n",
      "31위 : 놉\n",
      "32위 : 미친 능력\n",
      "33위 : 극장판 주술회전 0\n",
      "34위 : 노스맨\n",
      "35위 : 이상한 나라의 수학자\n",
      "36위 : 위대한 침묵\n",
      "37위 : 리미트\n",
      "38위 : 섹스 앤 퓨리\n",
      "39위 : 군다\n",
      "40위 : 뽀로로 극장판 드래곤캐슬 대모험\n",
      "41위 : 아바타: 물의 길\n",
      "42위 : 주(咒)\n",
      "43위 : 스파이형 모델\n",
      "44위 : 불릿 트레인\n",
      "45위 : 클라우스\n",
      "46위 : 니얼굴\n",
      "47위 : 체리마호: 30살까지 동정이면 마법사가 될 수 있대\n",
      "48위 : 경아의 딸\n",
      "49위 : 가버나움\n",
      "50위 : 모어\n"
     ]
    }
   ],
   "source": [
    "if movie_ranking.status_code == 200: #정상적인 응답의경우\n",
    "    soup = BeautifulSoup(movie_ranking.content, \"html.parser\")\n",
    "    title_list = soup.select(\"div.tit3 > a\") #영화제목 링크 요소\n",
    "    \n",
    "    for i, title in enumerate(title_list):\n",
    "        print(f\"{i+1}위 : {title.text}\")\n",
    "else:\n",
    "    print(\"request ERROR!!\")"
   ]
  },
  {
   "cell_type": "code",
   "execution_count": null,
   "id": "1d81c6a3-df68-4091-a95e-3547976f8f6c",
   "metadata": {},
   "outputs": [],
   "source": []
  },
  {
   "cell_type": "code",
   "execution_count": null,
   "id": "c6c857e1-d9c2-4e04-92f5-d6b5d36faf07",
   "metadata": {},
   "outputs": [],
   "source": []
  }
 ],
 "metadata": {
  "kernelspec": {
   "display_name": "Python 3 (ipykernel)",
   "language": "python",
   "name": "python3"
  },
  "language_info": {
   "codemirror_mode": {
    "name": "ipython",
    "version": 3
   },
   "file_extension": ".py",
   "mimetype": "text/x-python",
   "name": "python",
   "nbconvert_exporter": "python",
   "pygments_lexer": "ipython3",
   "version": "3.9.13"
  }
 },
 "nbformat": 4,
 "nbformat_minor": 5
}
