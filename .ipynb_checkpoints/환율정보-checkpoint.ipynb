{
 "cells": [
  {
   "cell_type": "code",
   "execution_count": 1,
   "id": "4f94b08d-ef77-4e69-b5ea-9a3c64a3f81c",
   "metadata": {},
   "outputs": [],
   "source": [
    "import requests\n",
    "from bs4 import BeautifulSoup"
   ]
  },
  {
   "cell_type": "code",
   "execution_count": 2,
   "id": "fa314432-7045-4780-a733-39c74f345dfc",
   "metadata": {},
   "outputs": [],
   "source": [
    "url='https://finance.naver.com/marketindex/' # 환율정보\n",
    "market_index = requests.get(url)"
   ]
  },
  {
   "cell_type": "code",
   "execution_count": 3,
   "id": "b310b035-4eb0-4524-8349-00ac11ba9b97",
   "metadata": {},
   "outputs": [
    {
     "data": {
      "text/plain": [
       "<Response [200]>"
      ]
     },
     "execution_count": 3,
     "metadata": {},
     "output_type": "execute_result"
    }
   ],
   "source": [
    "market_index"
   ]
  },
  {
   "cell_type": "code",
   "execution_count": 5,
   "id": "718c18ec-e6d6-4501-b64f-36943863eea4",
   "metadata": {},
   "outputs": [],
   "source": [
    "soup = BeautifulSoup(market_index.content, \"html.parser\")"
   ]
  },
  {
   "cell_type": "code",
   "execution_count": 6,
   "id": "b83fcb21-128f-41f0-a365-0e236e9206d4",
   "metadata": {},
   "outputs": [],
   "source": [
    "price=soup.select_one(\"div.head_info > span.value\")"
   ]
  },
  {
   "cell_type": "code",
   "execution_count": 8,
   "id": "dd56e0ea-b412-4bb1-b2d2-39a7e7ea3001",
   "metadata": {},
   "outputs": [
    {
     "name": "stdout",
     "output_type": "stream",
     "text": [
      "usd/krw= 1,319.00\n"
     ]
    }
   ],
   "source": [
    "print(\"usd/krw=\", price.text)"
   ]
  }
 ],
 "metadata": {
  "kernelspec": {
   "display_name": "Python 3 (ipykernel)",
   "language": "python",
   "name": "python3"
  },
  "language_info": {
   "codemirror_mode": {
    "name": "ipython",
    "version": 3
   },
   "file_extension": ".py",
   "mimetype": "text/x-python",
   "name": "python",
   "nbconvert_exporter": "python",
   "pygments_lexer": "ipython3",
   "version": "3.9.12"
  }
 },
 "nbformat": 4,
 "nbformat_minor": 5
}
